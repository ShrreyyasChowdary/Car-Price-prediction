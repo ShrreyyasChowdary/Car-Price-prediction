{
 "cells": [
  {
   "cell_type": "code",
   "execution_count": 14,
   "id": "dff54dc0-3735-44a5-9b30-ce2d0571c66d",
   "metadata": {},
   "outputs": [
    {
     "name": "stdout",
     "output_type": "stream",
     "text": [
      "Predicted Price: 3.92\n"
     ]
    }
   ],
   "source": [
    "import pandas as pd\n",
    "from sklearn.model_selection import train_test_split\n",
    "from sklearn.preprocessing import StandardScaler, OneHotEncoder\n",
    "from sklearn.linear_model import LinearRegression\n",
    "from sklearn.compose import ColumnTransformer\n",
    "from sklearn.pipeline import Pipeline\n",
    "\n",
    "# Load the dataset\n",
    "data = pd.read_csv(r\"C:\\Users\\Kiran\\OneDrive\\Desktop\\shreyas\\car.csv\")\n",
    "df = pd.DataFrame(data)\n",
    "\n",
    "# Drop unnecessary columns (if any)\n",
    "df.drop(columns=['Car_Name'], inplace=True)\n",
    "\n",
    "# Handle categorical variables\n",
    "categorical_cols = ['Fuel_Type', 'Selling_type', 'Transmission']\n",
    "numeric_cols = ['Year', 'Present_Price', 'Driven_kms']\n",
    "\n",
    "# Define preprocessing steps\n",
    "numeric_transformer = Pipeline(steps=[\n",
    "    ('scaler', StandardScaler())\n",
    "])\n",
    "\n",
    "categorical_transformer = Pipeline(steps=[\n",
    "    ('onehot', OneHotEncoder(drop='first'))\n",
    "])\n",
    "\n",
    "preprocessor = ColumnTransformer(\n",
    "    transformers=[\n",
    "        ('num', numeric_transformer, numeric_cols),\n",
    "        ('cat', categorical_transformer, categorical_cols)\n",
    "    ])\n",
    "\n",
    "# Define the model\n",
    "model = Pipeline(steps=[('preprocessor', preprocessor),\n",
    "                        ('regressor', LinearRegression())])\n",
    "\n",
    "# Features and target variable\n",
    "X = df.drop(columns=['Selling_Price'])\n",
    "y = df['Selling_Price']\n",
    "\n",
    "# Split the data into training and test sets\n",
    "X_train, X_test, y_train, y_test = train_test_split(X, y, test_size=0.2, random_state=42)\n",
    "\n",
    "# Fit the model\n",
    "model.fit(X_train, y_train)\n",
    "\n",
    "new_car_features = pd.DataFrame([[2014, 5.59, 27000, 'Petrol', 'Dealer', 'Manual']], \n",
    "                                columns=['Year', 'Present_Price', 'Driven_kms', 'Fuel_Type', 'Selling_type', 'Transmission'])\n",
    "\n",
    "predicted_price = model.predict(new_car_features)\n",
    "\n",
    "print(f'Predicted Price: {predicted_price[0]:.2f}')\n"
   ]
  }
 ],
 "metadata": {
  "kernelspec": {
   "display_name": "Python 3 (ipykernel)",
   "language": "python",
   "name": "python3"
  },
  "language_info": {
   "codemirror_mode": {
    "name": "ipython",
    "version": 3
   },
   "file_extension": ".py",
   "mimetype": "text/x-python",
   "name": "python",
   "nbconvert_exporter": "python",
   "pygments_lexer": "ipython3",
   "version": "3.11.7"
  }
 },
 "nbformat": 4,
 "nbformat_minor": 5
}
